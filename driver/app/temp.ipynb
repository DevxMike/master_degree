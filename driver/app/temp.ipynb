{
 "cells": [
  {
   "cell_type": "code",
   "execution_count": 3,
   "metadata": {},
   "outputs": [],
   "source": [
    "import sched\n",
    "\n"
   ]
  },
  {
   "cell_type": "code",
   "execution_count": 5,
   "metadata": {},
   "outputs": [
    {
     "name": "stdout",
     "output_type": "stream",
     "text": [
      "cback1\n",
      "cback1\n",
      "cback1\n",
      "cback1\n",
      "cback1\n",
      "cback2\n",
      "cback1\n",
      "cback3\n",
      "cback1\n",
      "cback1\n",
      "cback1\n",
      "cback1\n",
      "cback2\n",
      "cback1\n",
      "cback1\n",
      "cback3\n",
      "cback1\n",
      "cback1\n",
      "cback1\n",
      "cback2\n"
     ]
    },
    {
     "ename": "KeyboardInterrupt",
     "evalue": "",
     "output_type": "error",
     "traceback": [
      "\u001b[0;31m---------------------------------------------------------------------------\u001b[0m",
      "\u001b[0;31mKeyboardInterrupt\u001b[0m                         Traceback (most recent call last)",
      "Cell \u001b[0;32mIn[5], line 16\u001b[0m\n\u001b[1;32m     14\u001b[0m \u001b[38;5;28;01mfor\u001b[39;00m t \u001b[38;5;129;01min\u001b[39;00m timer_list:\n\u001b[1;32m     15\u001b[0m     t\u001b[38;5;241m.\u001b[39mpoll()\n\u001b[0;32m---> 16\u001b[0m \u001b[43mtime\u001b[49m\u001b[38;5;241;43m.\u001b[39;49m\u001b[43msleep\u001b[49m\u001b[43m(\u001b[49m\u001b[38;5;241;43m.001\u001b[39;49m\u001b[43m)\u001b[49m\n",
      "\u001b[0;31mKeyboardInterrupt\u001b[0m: "
     ]
    }
   ],
   "source": [
    "import time\n",
    "\n",
    "class CallEventTimer:\n",
    "    def __init__(self, interval_ms, callback):\n",
    "        self.interval_ms = interval_ms\n",
    "        self.callback = callback\n",
    "        self._running = False\n",
    "        self._start_time = 0\n",
    "\n",
    "    def start(self):\n",
    "        if not self._running:\n",
    "            self._running = True\n",
    "            self._start_time = int(time.time() * 1000)\n",
    "\n",
    "    def stop(self):\n",
    "        self._running = False\n",
    "\n",
    "    def poll(self):\n",
    "        if self._running:\n",
    "            current_time = int(time.time() * 1000)\n",
    "            if(current_time - self._start_time >= self.interval_ms):\n",
    "                self.callback()\n",
    "                self._start_time = current_time"
   ]
  }
 ],
 "metadata": {
  "language_info": {
   "name": "python"
  }
 },
 "nbformat": 4,
 "nbformat_minor": 2
}
