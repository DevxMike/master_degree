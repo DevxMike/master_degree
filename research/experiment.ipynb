{
 "cells": [
  {
   "cell_type": "code",
   "execution_count": 251,
   "metadata": {},
   "outputs": [],
   "source": [
    "import paho.mqtt.client as mqtt\n",
    "import json\n",
    "import time"
   ]
  },
  {
   "cell_type": "code",
   "execution_count": 252,
   "metadata": {},
   "outputs": [],
   "source": [
    "import paho.mqtt.client as mqtt\n",
    "import json\n",
    "import time\n",
    "\n",
    "MQTT_BROKER = \"mqtt-dashboard.com\"\n",
    "MQTT_PORT = 1883\n",
    "MQTT_TOPIC_PID = \"robot/set/pid\"\n",
    "MQTT_TOPIC_MOTORS = \"robot/set/motors\"\n",
    "MQTT_TOPIC_LOG = \"robot/pid/log\"\n",
    "MQTT_TOPIC_RESPONSE = \"robot/request\""
   ]
  },
  {
   "cell_type": "code",
   "execution_count": 253,
   "metadata": {},
   "outputs": [],
   "source": [
    "mqtt_client = mqtt.Client(\"PID ctl\")\n",
    "\n",
    "logs = []"
   ]
  },
  {
   "cell_type": "code",
   "execution_count": 254,
   "metadata": {},
   "outputs": [],
   "source": [
    "def send_mqtt_message(topic, message):\n",
    "    mqtt_client.publish(topic, json.dumps(message))"
   ]
  },
  {
   "cell_type": "code",
   "execution_count": 255,
   "metadata": {},
   "outputs": [],
   "source": [
    "def run_experiment(Kp, Ti, Td):\n",
    "    global logs\n",
    "    global mqtt_client\n",
    "    \n",
    "    logs = []\n",
    "    mqtt_client = mqtt.Client(\"PID ctl\")\n",
    "    mqtt_client.connect(MQTT_BROKER, MQTT_PORT)\n",
    "    mqtt_client.subscribe(MQTT_TOPIC_LOG)\n",
    "    mqtt_client.on_message = on_log_message\n",
    "    \n",
    "    pid_settings = {\"Kp\": Kp, \"Ti\": Ti, \"Td\": Td}\n",
    "    send_mqtt_message(MQTT_TOPIC_PID, pid_settings)\n",
    "\n",
    "    motors_speed = {\"left\": 70, \"right\": 70}\n",
    "    send_mqtt_message(MQTT_TOPIC_MOTORS, motors_speed)\n",
    "\n",
    "    start_time = time.time()\n",
    "    while time.time() - start_time < 3:\n",
    "        mqtt_client.loop()\n",
    "\n",
    "    motors_speed = {\"left\": 0, \"right\": 0}\n",
    "    send_mqtt_message(MQTT_TOPIC_MOTORS, motors_speed)\n",
    "\n",
    "    time.sleep(2)\n",
    "    \n",
    "    send_mqtt_message(MQTT_TOPIC_RESPONSE, \"\")\n",
    "\n",
    "def on_log_message(client, userdata, message):\n",
    "    log_data = json.loads(message.payload.decode())\n",
    "    logs.append(log_data)  "
   ]
  },
  {
   "cell_type": "code",
   "execution_count": 256,
   "metadata": {},
   "outputs": [],
   "source": [
    "mqtt_client.subscribe(MQTT_TOPIC_LOG)\n",
    "mqtt_client.on_message = on_log_message"
   ]
  },
  {
   "cell_type": "code",
   "execution_count": 257,
   "metadata": {},
   "outputs": [],
   "source": [
    "import math\n",
    "def calc_error(Kp, Ti, Td):\n",
    "    global logs\n",
    "\n",
    "    absolute_errors = []\n",
    "    relative_errors = []\n",
    "    settling_times = []\n",
    "\n",
    "    sampling_time = 5\n",
    "\n",
    "    run_experiment(Kp, Ti, Td)\n",
    "\n",
    "    for i in range(len(logs)):\n",
    "        measurement = logs[i]\n",
    "        absolute_error = abs(measurement['target'] - measurement['actual'])\n",
    "        relative_error = (absolute_error / measurement['target']) * 100 if measurement['target'] != 0 else 0\n",
    "        absolute_errors.append(absolute_error)\n",
    "        relative_errors.append(relative_error)\n",
    "        \n",
    "        # Sprawdzenie, czy wartość docelowa została osiągnięta\n",
    "        if relative_error < 2:  # Możesz dostosować wartość graniczną według potrzeb\n",
    "            settling_time = i * sampling_time\n",
    "            settling_times.append(settling_time)\n",
    "\n",
    "    mean_error = sum(absolute_errors) / len(absolute_errors)\n",
    "\n",
    "    mean_relative_error = sum(relative_errors) / len(relative_errors)\n",
    "\n",
    "    rmse_error = math.sqrt(sum([(error ** 2) for error in absolute_errors]) / len(absolute_errors))\n",
    "\n",
    "    average_settling_time = sum(settling_times) / len(settling_times) if settling_times else None\n",
    "\n",
    "    # Wyświetlenie wyników\n",
    "    print(\"Mean error: \", mean_error)\n",
    "    print(\"Mean relative error: \", mean_relative_error)\n",
    "    print(\"(RMSE): \", rmse_error)\n",
    "    print(\"Average settling time: \", average_settling_time, \" ms\")\n",
    "\n",
    "    print(logs)"
   ]
  },
  {
   "cell_type": "code",
   "execution_count": 258,
   "metadata": {},
   "outputs": [],
   "source": [
    "PID_settings = [\n",
    "    { \"Kp\" : 22.75297759, \"Ti\" : 41.13985303, \"Td\" : 43.13750817 },\n",
    "    { \"Kp\" : 43.8126484, \"Ti\" : 6.42690804, \"Td\" : 47.58715438 },\n",
    "    { \"Kp\" : 40.94357286, \"Ti\" : 28.49773496, \"Td\" : 43.95695723 }\n",
    "]\n",
    "\n",
    "# for setting in PID_settings:\n",
    "#     print(setting)\n",
    "#     calc_error(setting[\"Kp\"], setting[\"Ti\"], setting[\"Td\"])"
   ]
  },
  {
   "cell_type": "code",
   "execution_count": 259,
   "metadata": {},
   "outputs": [
    {
     "name": "stdout",
     "output_type": "stream",
     "text": [
      "Mean error:  0.5050366300366301\n",
      "Mean relative error:  13.254698548328463\n",
      "(RMSE):  0.6251749938167495\n",
      "Average settling time:  1210.2777777777778  ms\n",
      "[{'id': 0, 'target': 0.0, 'actual': 0.39}, {'id': 1, 'target': 0.0, 'actual': 0.27}, {'id': 2, 'target': 0.0, 'actual': 0.19}, {'id': 3, 'target': 0.0, 'actual': 0.13}, {'id': 4, 'target': 0.0, 'actual': 0.09}, {'id': 5, 'target': 0.0, 'actual': 0.07}, {'id': 6, 'target': 0.0, 'actual': 0.05}, {'id': 7, 'target': 0.0, 'actual': 0.03}, {'id': 8, 'target': 0.0, 'actual': 0.02}, {'id': 9, 'target': 0.0, 'actual': 0.02}, {'id': 10, 'target': 0.0, 'actual': 0.01}, {'id': 11, 'target': 0.0, 'actual': 0.01}, {'id': 12, 'target': 0.0, 'actual': 0.01}, {'id': 13, 'target': 0.0, 'actual': 0.0}, {'id': 14, 'target': 0.0, 'actual': 0.0}, {'id': 15, 'target': 0.0, 'actual': 0.0}, {'id': 16, 'target': 0.0, 'actual': 0.0}, {'id': 17, 'target': 0.0, 'actual': 0.0}, {'id': 18, 'target': 0.0, 'actual': 0.0}, {'id': 19, 'target': 0.0, 'actual': 0.0}, {'id': 20, 'target': 0.0, 'actual': 0.0}, {'id': 21, 'target': 0.2, 'actual': 0.0}, {'id': 22, 'target': 0.14, 'actual': 0.0}, {'id': 23, 'target': 0.1, 'actual': 0.0}, {'id': 24, 'target': 0.07, 'actual': 0.0}, {'id': 25, 'target': 0.24, 'actual': 0.0}, {'id': 26, 'target': 0.17, 'actual': 0.0}, {'id': 27, 'target': 0.32, 'actual': 0.0}, {'id': 28, 'target': 0.22, 'actual': 0.0}, {'id': 29, 'target': 0.35, 'actual': 0.0}, {'id': 30, 'target': 0.25, 'actual': 0.0}, {'id': 31, 'target': 0.37, 'actual': 0.0}, {'id': 32, 'target': 0.45, 'actual': 0.0}, {'id': 33, 'target': 0.51, 'actual': 0.0}, {'id': 34, 'target': 0.56, 'actual': 0.0}, {'id': 35, 'target': 0.59, 'actual': 0.0}, {'id': 36, 'target': 0.61, 'actual': 0.0}, {'id': 37, 'target': 0.62, 'actual': 0.0}, {'id': 38, 'target': 0.63, 'actual': 0.0}, {'id': 39, 'target': 0.83, 'actual': 0.2}, {'id': 40, 'target': 0.78, 'actual': 0.14}, {'id': 41, 'target': 0.94, 'actual': 0.1}, {'id': 42, 'target': 0.85, 'actual': 0.26}, {'id': 43, 'target': 0.99, 'actual': 0.18}, {'id': 44, 'target': 1.09, 'actual': 0.13}, {'id': 45, 'target': 1.15, 'actual': 0.29}, {'id': 46, 'target': 1.2, 'actual': 0.2}, {'id': 47, 'target': 1.23, 'actual': 0.34}, {'id': 48, 'target': 1.26, 'actual': 0.43}, {'id': 49, 'target': 1.27, 'actual': 0.5}, {'id': 50, 'target': 1.28, 'actual': 0.55}, {'id': 51, 'target': 1.29, 'actual': 0.58}, {'id': 52, 'target': 1.3, 'actual': 0.6}, {'id': 53, 'target': 1.5, 'actual': 0.62}, {'id': 54, 'target': 1.64, 'actual': 0.63}, {'id': 55, 'target': 1.54, 'actual': 0.83}, {'id': 56, 'target': 1.67, 'actual': 0.98}, {'id': 57, 'target': 1.76, 'actual': 1.08}, {'id': 58, 'target': 1.82, 'actual': 1.15}, {'id': 59, 'target': 1.86, 'actual': 1.19}, {'id': 60, 'target': 1.89, 'actual': 1.23}, {'id': 61, 'target': 1.91, 'actual': 1.25}, {'id': 62, 'target': 2.12, 'actual': 1.27}, {'id': 63, 'target': 2.08, 'actual': 1.48}, {'id': 64, 'target': 2.24, 'actual': 1.43}, {'id': 65, 'target': 2.35, 'actual': 1.39}, {'id': 66, 'target': 2.24, 'actual': 1.37}, {'id': 67, 'target': 2.15, 'actual': 1.35}, {'id': 68, 'target': 2.1, 'actual': 1.53}, {'id': 69, 'target': 2.25, 'actual': 1.66}, {'id': 70, 'target': 2.36, 'actual': 1.95}, {'id': 71, 'target': 2.44, 'actual': 1.95}, {'id': 72, 'target': 2.49, 'actual': 2.15}, {'id': 73, 'target': 2.53, 'actual': 2.29}, {'id': 74, 'target': 2.75, 'actual': 2.39}, {'id': 75, 'target': 2.71, 'actual': 2.46}, {'id': 76, 'target': 2.88, 'actual': 2.51}, {'id': 77, 'target': 3.0, 'actual': 2.54}, {'id': 78, 'target': 3.08, 'actual': 2.56}, {'id': 79, 'target': 3.14, 'actual': 2.58}, {'id': 80, 'target': 3.18, 'actual': 2.59}, {'id': 81, 'target': 3.21, 'actual': 2.6}, {'id': 82, 'target': 3.23, 'actual': 2.6}, {'id': 83, 'target': 3.24, 'actual': 2.61}, {'id': 84, 'target': 3.25, 'actual': 2.81}, {'id': 85, 'target': 3.26, 'actual': 2.95}, {'id': 86, 'target': 3.46, 'actual': 3.24}, {'id': 87, 'target': 3.4, 'actual': 3.25}, {'id': 88, 'target': 3.36, 'actual': 3.26}, {'id': 89, 'target': 3.34, 'actual': 3.46}, {'id': 90, 'target': 3.32, 'actual': 3.6}, {'id': 91, 'target': 3.3, 'actual': 3.5}, {'id': 92, 'target': 3.49, 'actual': 3.43}, {'id': 93, 'target': 3.62, 'actual': 3.38}, {'id': 94, 'target': 3.71, 'actual': 3.55}, {'id': 95, 'target': 3.78, 'actual': 3.66}, {'id': 96, 'target': 3.82, 'actual': 3.74}, {'id': 97, 'target': 3.85, 'actual': 3.8}, {'id': 98, 'target': 3.88, 'actual': 3.84}, {'id': 99, 'target': 4.09, 'actual': 3.86}, {'id': 100, 'target': 4.04, 'actual': 3.88}, {'id': 101, 'target': 3.81, 'actual': 3.7}, {'id': 102, 'target': 3.84, 'actual': 3.77}, {'id': 103, 'target': 4.07, 'actual': 3.82}, {'id': 104, 'target': 4.22, 'actual': 3.85}, {'id': 105, 'target': 4.33, 'actual': 3.87}, {'id': 106, 'target': 4.4, 'actual': 3.89}, {'id': 107, 'target': 4.46, 'actual': 3.9}, {'id': 108, 'target': 4.49, 'actual': 3.91}, {'id': 109, 'target': 4.52, 'actual': 3.72}, {'id': 110, 'target': 4.54, 'actual': 3.78}, {'id': 111, 'target': 4.55, 'actual': 3.82}, {'id': 112, 'target': 4.56, 'actual': 3.86}, {'id': 113, 'target': 4.57, 'actual': 3.88}, {'id': 114, 'target': 4.77, 'actual': 3.89}, {'id': 115, 'target': 4.71, 'actual': 3.9}, {'id': 116, 'target': 4.87, 'actual': 4.11}, {'id': 117, 'target': 4.98, 'actual': 4.25}, {'id': 118, 'target': 5.06, 'actual': 4.15}, {'id': 119, 'target': 5.11, 'actual': 4.28}, {'id': 120, 'target': 5.15, 'actual': 4.37}, {'id': 121, 'target': 4.98, 'actual': 4.43}, {'id': 122, 'target': 5.06, 'actual': 4.28}, {'id': 123, 'target': 5.11, 'actual': 4.18}, {'id': 124, 'target': 5.15, 'actual': 4.3}, {'id': 125, 'target': 5.17, 'actual': 4.38}, {'id': 126, 'target': 5.19, 'actual': 4.44}, {'id': 127, 'target': 5.21, 'actual': 4.48}, {'id': 128, 'target': 5.21, 'actual': 4.51}, {'id': 129, 'target': 5.22, 'actual': 4.53}, {'id': 130, 'target': 5.23, 'actual': 4.55}, {'id': 131, 'target': 5.23, 'actual': 4.56}, {'id': 132, 'target': 5.23, 'actual': 4.57}, {'id': 133, 'target': 5.23, 'actual': 4.57}, {'id': 134, 'target': 5.23, 'actual': 4.57}, {'id': 135, 'target': 5.23, 'actual': 4.58}, {'id': 136, 'target': 5.23, 'actual': 4.77}, {'id': 137, 'target': 5.24, 'actual': 4.91}, {'id': 138, 'target': 5.24, 'actual': 5.01}, {'id': 139, 'target': 5.24, 'actual': 5.08}, {'id': 140, 'target': 5.24, 'actual': 4.93}, {'id': 141, 'target': 5.24, 'actual': 5.02}, {'id': 142, 'target': 5.43, 'actual': 5.09}, {'id': 143, 'target': 5.57, 'actual': 5.13}, {'id': 144, 'target': 5.47, 'actual': 5.16}, {'id': 145, 'target': 5.6, 'actual': 5.18}, {'id': 146, 'target': 5.68, 'actual': 5.2}, {'id': 147, 'target': 5.55, 'actual': 5.21}, {'id': 148, 'target': 5.65, 'actual': 5.22}, {'id': 149, 'target': 5.72, 'actual': 5.22}, {'id': 150, 'target': 5.77, 'actual': 5.23}, {'id': 151, 'target': 5.81, 'actual': 5.23}, {'id': 152, 'target': 5.83, 'actual': 5.23}, {'id': 153, 'target': 5.85, 'actual': 5.23}, {'id': 154, 'target': 5.86, 'actual': 5.43}, {'id': 155, 'target': 5.87, 'actual': 5.37}, {'id': 156, 'target': 5.88, 'actual': 5.53}, {'id': 157, 'target': 5.88, 'actual': 5.64}, {'id': 158, 'target': 5.69, 'actual': 5.52}, {'id': 159, 'target': 5.75, 'actual': 5.63}, {'id': 160, 'target': 5.79, 'actual': 5.71}, {'id': 161, 'target': 5.82, 'actual': 5.57}, {'id': 162, 'target': 5.84, 'actual': 5.66}, {'id': 163, 'target': 5.86, 'actual': 5.54}, {'id': 164, 'target': 5.87, 'actual': 5.64}, {'id': 165, 'target': 5.87, 'actual': 5.52}, {'id': 166, 'target': 5.88, 'actual': 5.63}, {'id': 167, 'target': 5.88, 'actual': 5.71}, {'id': 168, 'target': 5.88, 'actual': 5.76}, {'id': 169, 'target': 6.08, 'actual': 5.61}, {'id': 170, 'target': 6.03, 'actual': 5.69}, {'id': 171, 'target': 5.98, 'actual': 5.75}, {'id': 172, 'target': 5.96, 'actual': 5.79}, {'id': 173, 'target': 6.13, 'actual': 5.82}, {'id': 174, 'target': 6.06, 'actual': 5.84}, {'id': 175, 'target': 6.21, 'actual': 5.86}, {'id': 176, 'target': 6.31, 'actual': 5.67}, {'id': 177, 'target': 6.38, 'actual': 5.74}, {'id': 178, 'target': 6.43, 'actual': 5.78}, {'id': 179, 'target': 6.46, 'actual': 5.62}, {'id': 180, 'target': 6.49, 'actual': 5.5}, {'id': 181, 'target': 6.31, 'actual': 5.62}, {'id': 182, 'target': 6.38, 'actual': 5.7}, {'id': 183, 'target': 6.43, 'actual': 5.56}, {'id': 184, 'target': 6.27, 'actual': 5.66}, {'id': 185, 'target': 6.35, 'actual': 5.73}, {'id': 186, 'target': 6.41, 'actual': 5.78}, {'id': 187, 'target': 6.25, 'actual': 5.81}, {'id': 188, 'target': 6.34, 'actual': 5.64}, {'id': 189, 'target': 6.4, 'actual': 5.71}, {'id': 190, 'target': 6.45, 'actual': 5.77}, {'id': 191, 'target': 6.47, 'actual': 5.8}, {'id': 192, 'target': 6.3, 'actual': 5.63}, {'id': 193, 'target': 6.37, 'actual': 5.71}, {'id': 194, 'target': 6.42, 'actual': 5.76}, {'id': 195, 'target': 6.46, 'actual': 5.8}, {'id': 196, 'target': 6.49, 'actual': 5.83}, {'id': 197, 'target': 6.5, 'actual': 5.85}, {'id': 198, 'target': 6.52, 'actual': 5.86}, {'id': 199, 'target': 6.52, 'actual': 5.87}, {'id': 200, 'target': 6.53, 'actual': 5.88}, {'id': 201, 'target': 6.54, 'actual': 5.88}, {'id': 202, 'target': 6.34, 'actual': 5.88}, {'id': 203, 'target': 6.4, 'actual': 5.89}, {'id': 204, 'target': 6.45, 'actual': 6.08}, {'id': 205, 'target': 6.48, 'actual': 6.22}, {'id': 206, 'target': 6.69, 'actual': 6.32}, {'id': 207, 'target': 6.84, 'actual': 6.39}, {'id': 208, 'target': 6.75, 'actual': 6.24}, {'id': 209, 'target': 6.69, 'actual': 6.33}, {'id': 210, 'target': 6.65, 'actual': 6.2}, {'id': 211, 'target': 6.62, 'actual': 6.3}, {'id': 212, 'target': 6.79, 'actual': 6.18}, {'id': 213, 'target': 6.91, 'actual': 6.29}, {'id': 214, 'target': 6.8, 'actual': 6.37}, {'id': 215, 'target': 6.73, 'actual': 6.42}, {'id': 216, 'target': 6.67, 'actual': 6.46}, {'id': 217, 'target': 6.83, 'actual': 6.48}, {'id': 218, 'target': 6.74, 'actual': 6.5}, {'id': 219, 'target': 6.68, 'actual': 6.51}, {'id': 220, 'target': 6.84, 'actual': 6.52}, {'id': 221, 'target': 6.75, 'actual': 6.53}, {'id': 222, 'target': 6.69, 'actual': 6.53}, {'id': 223, 'target': 6.84, 'actual': 6.54}, {'id': 224, 'target': 6.75, 'actual': 6.54}, {'id': 225, 'target': 6.89, 'actual': 6.54}, {'id': 226, 'target': 6.78, 'actual': 6.54}, {'id': 227, 'target': 6.91, 'actual': 6.54}, {'id': 228, 'target': 6.8, 'actual': 6.74}, {'id': 229, 'target': 6.92, 'actual': 6.88}, {'id': 230, 'target': 6.81, 'actual': 6.78}, {'id': 231, 'target': 6.73, 'actual': 6.71}, {'id': 232, 'target': 6.87, 'actual': 6.66}, {'id': 233, 'target': 6.77, 'actual': 6.62}, {'id': 234, 'target': 6.9, 'actual': 6.6}, {'id': 235, 'target': 6.79, 'actual': 6.58}, {'id': 236, 'target': 6.92, 'actual': 6.38}, {'id': 237, 'target': 6.8, 'actual': 6.43}, {'id': 238, 'target': 6.92, 'actual': 6.46}, {'id': 239, 'target': 6.81, 'actual': 6.29}, {'id': 240, 'target': 6.93, 'actual': 6.37}, {'id': 241, 'target': 6.81, 'actual': 6.42}, {'id': 242, 'target': 6.93, 'actual': 6.46}, {'id': 243, 'target': 7.01, 'actual': 6.48}, {'id': 244, 'target': 6.87, 'actual': 6.5}, {'id': 245, 'target': 6.97, 'actual': 6.52}, {'id': 246, 'target': 7.04, 'actual': 6.52}, {'id': 247, 'target': 6.89, 'actual': 6.53}, {'id': 248, 'target': 6.98, 'actual': 6.53}, {'id': 249, 'target': 7.05, 'actual': 6.54}, {'id': 250, 'target': 6.9, 'actual': 6.34}, {'id': 251, 'target': 6.99, 'actual': 6.4}, {'id': 252, 'target': 7.05, 'actual': 6.45}, {'id': 253, 'target': 7.1, 'actual': 6.48}, {'id': 254, 'target': 6.93, 'actual': 6.5}, {'id': 255, 'target': 7.01, 'actual': 6.51}, {'id': 256, 'target': 7.07, 'actual': 6.72}, {'id': 257, 'target': 7.11, 'actual': 6.47}, {'id': 258, 'target': 7.13, 'actual': 6.49}, {'id': 259, 'target': 7.15, 'actual': 6.51}, {'id': 260, 'target': 7.17, 'actual': 6.52}, {'id': 261, 'target': 7.18, 'actual': 6.53}, {'id': 262, 'target': 7.18, 'actual': 6.53}, {'id': 263, 'target': 7.19, 'actual': 6.54}, {'id': 264, 'target': 7.19, 'actual': 6.54}, {'id': 265, 'target': 7.0, 'actual': 6.54}, {'id': 266, 'target': 7.06, 'actual': 6.74}, {'id': 267, 'target': 7.1, 'actual': 6.88}, {'id': 268, 'target': 7.13, 'actual': 6.78}, {'id': 269, 'target': 7.15, 'actual': 6.71}, {'id': 270, 'target': 7.17, 'actual': 6.86}, {'id': 271, 'target': 7.37, 'actual': 6.76}, {'id': 272, 'target': 7.32, 'actual': 6.89}, {'id': 273, 'target': 7.09, 'actual': 6.79}, {'id': 274, 'target': 7.12, 'actual': 6.91}, {'id': 275, 'target': 7.14, 'actual': 6.8}, {'id': 276, 'target': 7.16, 'actual': 6.92}, {'id': 277, 'target': 7.17, 'actual': 6.81}, {'id': 278, 'target': 7.18, 'actual': 6.73}, {'id': 279, 'target': 7.19, 'actual': 7.07}, {'id': 280, 'target': 7.19, 'actual': 7.11}, {'id': 281, 'target': 7.19, 'actual': 6.94}, {'id': 282, 'target': 7.19, 'actual': 7.02}, {'id': 283, 'target': 7.2, 'actual': 7.07}, {'id': 284, 'target': 7.2, 'actual': 7.11}, {'id': 285, 'target': 7.2, 'actual': 7.14}, {'id': 286, 'target': 7.2, 'actual': 7.16}, {'id': 287, 'target': 7.2, 'actual': 7.37}, {'id': 288, 'target': 7.2, 'actual': 7.32}, {'id': 289, 'target': 7.2, 'actual': 7.28}, {'id': 290, 'target': 7.2, 'actual': 7.45}, {'id': 291, 'target': 7.4, 'actual': 7.38}, {'id': 292, 'target': 7.34, 'actual': 7.32}, {'id': 293, 'target': 7.3, 'actual': 7.29}, {'id': 294, 'target': 7.27, 'actual': 7.26}, {'id': 295, 'target': 7.25, 'actual': 7.24}, {'id': 296, 'target': 7.23, 'actual': 7.23}, {'id': 297, 'target': 7.22, 'actual': 7.22}, {'id': 298, 'target': 7.22, 'actual': 7.21}, {'id': 299, 'target': 7.21, 'actual': 7.21}, {'id': 300, 'target': 7.4, 'actual': 7.21}, {'id': 301, 'target': 7.34, 'actual': 7.4}, {'id': 302, 'target': 7.3, 'actual': 7.14}, {'id': 303, 'target': 7.07, 'actual': 6.96}, {'id': 304, 'target': 7.31, 'actual': 7.03}, {'id': 305, 'target': 7.28, 'actual': 7.08}, {'id': 306, 'target': 7.25, 'actual': 7.12}, {'id': 307, 'target': 7.43, 'actual': 7.14}, {'id': 308, 'target': 7.36, 'actual': 7.16}, {'id': 309, 'target': 7.51, 'actual': 7.17}, {'id': 310, 'target': 7.42, 'actual': 6.98}, {'id': 311, 'target': 7.35, 'actual': 7.05}, {'id': 312, 'target': 7.5, 'actual': 7.09}, {'id': 313, 'target': 7.41, 'actual': 6.93}, {'id': 314, 'target': 7.54, 'actual': 6.81}, {'id': 315, 'target': 7.44, 'actual': 6.73}, {'id': 316, 'target': 7.56, 'actual': 6.87}, {'id': 317, 'target': 7.46, 'actual': 6.77}, {'id': 318, 'target': 7.57, 'actual': 6.71}, {'id': 319, 'target': 7.46, 'actual': 6.66}, {'id': 320, 'target': 7.58, 'actual': 6.82}, {'id': 321, 'target': 7.66, 'actual': 6.93}, {'id': 322, 'target': 7.72, 'actual': 6.82}, {'id': 323, 'target': 7.56, 'actual': 6.74}, {'id': 324, 'target': 7.45, 'actual': 6.87}, {'id': 325, 'target': 7.57, 'actual': 6.97}, {'id': 326, 'target': 7.46, 'actual': 6.84}, {'id': 327, 'target': 7.58, 'actual': 6.75}, {'id': 328, 'target': 7.66, 'actual': 7.08}, {'id': 329, 'target': 7.72, 'actual': 7.12}, {'id': 330, 'target': 7.76, 'actual': 6.95}, {'id': 331, 'target': 7.79, 'actual': 6.83}, {'id': 332, 'target': 7.81, 'actual': 6.94}, {'id': 333, 'target': 7.63, 'actual': 6.82}, {'id': 334, 'target': 7.69, 'actual': 6.93}, {'id': 335, 'target': 7.74, 'actual': 7.01}, {'id': 336, 'target': 7.58, 'actual': 7.07}, {'id': 337, 'target': 7.47, 'actual': 7.11}, {'id': 338, 'target': 7.58, 'actual': 7.14}, {'id': 339, 'target': 7.66, 'actual': 7.35}, {'id': 340, 'target': 7.52, 'actual': 7.31}, {'id': 341, 'target': 7.23, 'actual': 7.27}, {'id': 342, 'target': 7.22, 'actual': 7.45}, {'id': 343, 'target': 7.21, 'actual': 7.57}, {'id': 344, 'target': 7.21, 'actual': 7.46}, {'id': 345, 'target': 7.21, 'actual': 7.38}, {'id': 346, 'target': 7.01, 'actual': 7.52}, {'id': 347, 'target': 7.07, 'actual': 7.43}, {'id': 348, 'target': 7.11, 'actual': 7.55}, {'id': 349, 'target': 6.94, 'actual': 7.45}, {'id': 350, 'target': 7.02, 'actual': 7.37}, {'id': 351, 'target': 6.87, 'actual': 7.12}, {'id': 352, 'target': 6.97, 'actual': 7.15}, {'id': 353, 'target': 7.04, 'actual': 7.16}, {'id': 354, 'target': 6.89, 'actual': 7.17}, {'id': 355, 'target': 6.79, 'actual': 7.18}, {'id': 356, 'target': 6.71, 'actual': 6.99}, {'id': 357, 'target': 6.86, 'actual': 6.86}, {'id': 358, 'target': 6.96, 'actual': 6.96}, {'id': 359, 'target': 6.84, 'actual': 6.84}, {'id': 360, 'target': 6.75, 'actual': 6.75}, {'id': 361, 'target': 6.88, 'actual': 6.69}, {'id': 362, 'target': 6.78, 'actual': 6.64}, {'id': 363, 'target': 6.71, 'actual': 6.42}, {'id': 364, 'target': 6.86, 'actual': 6.46}, {'id': 365, 'target': 6.76, 'actual': 6.29}, {'id': 366, 'target': 6.7, 'actual': 6.17}, {'id': 367, 'target': 6.85, 'actual': 6.28}, {'id': 368, 'target': 6.76, 'actual': 6.36}, {'id': 369, 'target': 6.89, 'actual': 6.22}, {'id': 370, 'target': 6.79, 'actual': 6.12}, {'id': 371, 'target': 6.91, 'actual': 6.25}, {'id': 372, 'target': 7.0, 'actual': 6.34}, {'id': 373, 'target': 6.86, 'actual': 6.2}, {'id': 374, 'target': 6.96, 'actual': 6.11}, {'id': 375, 'target': 6.84, 'actual': 5.85}, {'id': 376, 'target': 6.95, 'actual': 5.86}, {'id': 377, 'target': 7.02, 'actual': 5.67}, {'id': 378, 'target': 7.08, 'actual': 5.74}, {'id': 379, 'target': 7.11, 'actual': 5.59}, {'id': 380, 'target': 7.14, 'actual': 5.68}, {'id': 381, 'target': 7.16, 'actual': 5.74}, {'id': 382, 'target': 7.17, 'actual': 5.79}, {'id': 383, 'target': 7.37, 'actual': 5.82}, {'id': 384, 'target': 7.32, 'actual': 5.64}, {'id': 385, 'target': 7.29, 'actual': 5.52}, {'id': 386, 'target': 7.26, 'actual': 5.63}, {'id': 387, 'target': 7.24, 'actual': 5.71}, {'id': 388, 'target': 7.23, 'actual': 5.76}, {'id': 389, 'target': 7.22, 'actual': 5.8}, {'id': 390, 'target': 7.21, 'actual': 5.63}, {'id': 391, 'target': 7.8, 'actual': 6.1}, {'id': 392, 'target': 7.62, 'actual': 5.84}, {'id': 393, 'target': 7.49, 'actual': 5.86}, {'id': 394, 'target': 7.4, 'actual': 5.67}, {'id': 395, 'target': 7.34, 'actual': 5.74}, {'id': 396, 'target': 7.3, 'actual': 5.78}, {'id': 397, 'target': 7.27, 'actual': 5.82}, {'id': 398, 'target': 7.45, 'actual': 5.84}, {'id': 399, 'target': 7.37, 'actual': 5.85}, {'id': 400, 'target': 7.32, 'actual': 6.06}, {'id': 401, 'target': 7.28, 'actual': 6.01}, {'id': 402, 'target': 7.26, 'actual': 5.97}, {'id': 403, 'target': 7.24, 'actual': 5.75}, {'id': 404, 'target': 7.42, 'actual': 5.79}, {'id': 405, 'target': 7.36, 'actual': 5.82}, {'id': 406, 'target': 7.31, 'actual': 5.84}, {'id': 407, 'target': 7.47, 'actual': 6.05}, {'id': 408, 'target': 7.39, 'actual': 6.0}, {'id': 409, 'target': 7.33, 'actual': 6.17}, {'id': 410, 'target': 7.29, 'actual': 6.08}, {'id': 411, 'target': 7.46, 'actual': 6.03}, {'id': 412, 'target': 7.38, 'actual': 5.99}, {'id': 413, 'target': 7.33, 'actual': 5.96}, {'id': 414, 'target': 7.29, 'actual': 6.13}, {'id': 415, 'target': 7.46, 'actual': 6.06}, {'id': 416, 'target': 7.38, 'actual': 6.21}, {'id': 417, 'target': 7.33, 'actual': 6.31}, {'id': 418, 'target': 7.29, 'actual': 6.38}, {'id': 419, 'target': 7.26, 'actual': 6.43}, {'id': 420, 'target': 7.24, 'actual': 6.46}, {'id': 421, 'target': 7.23, 'actual': 6.29}, {'id': 422, 'target': 7.42, 'actual': 6.56}, {'id': 423, 'target': 7.35, 'actual': 6.75}, {'id': 424, 'target': 7.31, 'actual': 6.89}, {'id': 425, 'target': 7.47, 'actual': 6.98}, {'id': 426, 'target': 7.59, 'actual': 7.05}, {'id': 427, 'target': 7.47, 'actual': 6.9}, {'id': 428, 'target': 7.39, 'actual': 6.99}, {'id': 429, 'target': 7.53, 'actual': 7.25}, {'id': 430, 'target': 7.43, 'actual': 7.23}, {'id': 431, 'target': 7.36, 'actual': 7.22}, {'id': 432, 'target': 7.51, 'actual': 7.02}, {'id': 433, 'target': 7.42, 'actual': 7.07}, {'id': 434, 'target': 7.35, 'actual': 7.11}, {'id': 435, 'target': 7.5, 'actual': 6.94}, {'id': 436, 'target': 7.41, 'actual': 7.02}, {'id': 437, 'target': 7.35, 'actual': 7.07}, {'id': 438, 'target': 7.5, 'actual': 7.11}, {'id': 439, 'target': 7.41, 'actual': 7.14}, {'id': 440, 'target': 7.35, 'actual': 7.16}, {'id': 441, 'target': 7.5, 'actual': 7.17}, {'id': 442, 'target': 7.41, 'actual': 7.18}, {'id': 443, 'target': 7.54, 'actual': 7.18}, {'id': 444, 'target': 7.44, 'actual': 7.39}, {'id': 445, 'target': 7.37, 'actual': 7.33}, {'id': 446, 'target': 7.51, 'actual': 7.49}, {'id': 447, 'target': 7.42, 'actual': 7.4}, {'id': 448, 'target': 7.55, 'actual': 7.34}, {'id': 449, 'target': 7.44, 'actual': 7.3}, {'id': 450, 'target': 7.57, 'actual': 7.27}, {'id': 451, 'target': 7.46, 'actual': 7.05}, {'id': 452, 'target': 7.58, 'actual': 7.29}, {'id': 453, 'target': 7.46, 'actual': 7.46}, {'id': 454, 'target': 7.58, 'actual': 7.38}, {'id': 455, 'target': 7.66, 'actual': 7.33}, {'id': 456, 'target': 7.52, 'actual': 7.29}, {'id': 457, 'target': 7.62, 'actual': 7.26}, {'id': 458, 'target': 7.5, 'actual': 7.24}, {'id': 459, 'target': 7.6, 'actual': 7.23}, {'id': 460, 'target': 7.48, 'actual': 7.22}, {'id': 461, 'target': 7.59, 'actual': 7.21}, {'id': 462, 'target': 7.48, 'actual': 7.21}, {'id': 463, 'target': 7.39, 'actual': 7.01}, {'id': 464, 'target': 7.53, 'actual': 7.26}, {'id': 465, 'target': 7.63, 'actual': 7.24}, {'id': 466, 'target': 7.7, 'actual': 7.23}, {'id': 467, 'target': 7.55, 'actual': 7.22}, {'id': 468, 'target': 7.64, 'actual': 7.41}, {'id': 469, 'target': 7.51, 'actual': 7.35}, {'id': 470, 'target': 7.41, 'actual': 7.3}, {'id': 471, 'target': 7.35, 'actual': 7.27}, {'id': 472, 'target': 7.5, 'actual': 7.05}, {'id': 473, 'target': 7.41, 'actual': 6.9}, {'id': 474, 'target': 7.35, 'actual': 6.79}, {'id': 475, 'target': 7.3, 'actual': 6.72}, {'id': 476, 'target': 7.27, 'actual': 6.67}, {'id': 477, 'target': 7.25, 'actual': 6.63}, {'id': 478, 'target': 7.23, 'actual': 6.6}, {'id': 479, 'target': 7.22, 'actual': 6.59}, {'id': 480, 'target': 7.22, 'actual': 6.57}, {'id': 481, 'target': 7.21, 'actual': 6.37}, {'id': 482, 'target': 7.21, 'actual': 6.42}, {'id': 483, 'target': 7.21, 'actual': 6.26}, {'id': 484, 'target': 7.01, 'actual': 6.35}, {'id': 485, 'target': 7.06, 'actual': 6.41}, {'id': 486, 'target': 7.11, 'actual': 6.45}, {'id': 487, 'target': 7.13, 'actual': 6.48}, {'id': 488, 'target': 6.96, 'actual': 6.5}, {'id': 489, 'target': 7.03, 'actual': 6.51}, {'id': 490, 'target': 7.08, 'actual': 6.52}, {'id': 491, 'target': 7.12, 'actual': 6.53}, {'id': 492, 'target': 7.14, 'actual': 6.53}, {'id': 493, 'target': 7.36, 'actual': 6.54}, {'id': 494, 'target': 7.5, 'actual': 6.54}, {'id': 495, 'target': 7.41, 'actual': 6.54}, {'id': 496, 'target': 7.35, 'actual': 6.54}, {'id': 497, 'target': 7.5, 'actual': 6.54}, {'id': 498, 'target': 7.41, 'actual': 6.74}, {'id': 499, 'target': 7.54, 'actual': 6.88}, {'id': 500, 'target': 7.44, 'actual': 6.97}, {'id': 501, 'target': 7.56, 'actual': 7.04}, {'id': 502, 'target': 7.65, 'actual': 7.09}, {'id': 503, 'target': 7.71, 'actual': 7.32}, {'id': 504, 'target': 7.56, 'actual': 7.09}, {'id': 505, 'target': 7.65, 'actual': 7.32}, {'id': 506, 'target': 7.71, 'actual': 7.28}, {'id': 507, 'target': 7.56, 'actual': 7.45}, {'id': 508, 'target': 7.65, 'actual': 7.38}, {'id': 509, 'target': 7.71, 'actual': 7.32}, {'id': 510, 'target': 7.75, 'actual': 7.48}, {'id': 511, 'target': 7.59, 'actual': 7.4}, {'id': 512, 'target': 7.47, 'actual': 7.34}, {'id': 513, 'target': 7.59, 'actual': 7.3}, {'id': 514, 'target': 7.47, 'actual': 7.27}, {'id': 515, 'target': 7.58, 'actual': 7.25}, {'id': 516, 'target': 7.67, 'actual': 7.43}, {'id': 517, 'target': 7.92, 'actual': 7.56}, {'id': 518, 'target': 7.9, 'actual': 7.45}, {'id': 519, 'target': 7.89, 'actual': 7.37}, {'id': 520, 'target': 7.88, 'actual': 7.32}, {'id': 521, 'target': 7.87, 'actual': 7.29}, {'id': 522, 'target': 8.06, 'actual': 7.46}, {'id': 523, 'target': 8.0, 'actual': 7.58}, {'id': 524, 'target': 8.15, 'actual': 7.66}, {'id': 525, 'target': 8.06, 'actual': 7.72}, {'id': 526, 'target': 8.0, 'actual': 7.76}, {'id': 527, 'target': 7.96, 'actual': 7.59}, {'id': 528, 'target': 8.12, 'actual': 7.67}, {'id': 529, 'target': 8.04, 'actual': 7.72}, {'id': 530, 'target': 8.18, 'actual': 7.57}, {'id': 531, 'target': 8.08, 'actual': 7.46}, {'id': 532, 'target': 8.01, 'actual': 7.58}, {'id': 533, 'target': 7.97, 'actual': 7.66}, {'id': 534, 'target': 8.13, 'actual': 7.91}, {'id': 535, 'target': 8.05, 'actual': 7.9}, {'id': 536, 'target': 8.19, 'actual': 7.88}, {'id': 537, 'target': 8.09, 'actual': 7.87}, {'id': 538, 'target': 8.21, 'actual': 7.87}, {'id': 539, 'target': 8.3, 'actual': 7.86}, {'id': 540, 'target': 8.17, 'actual': 7.86}, {'id': 541, 'target': 8.27, 'actual': 8.06}, {'id': 542, 'target': 8.34, 'actual': 8.19}, {'id': 543, 'target': 8.39, 'actual': 8.29}, {'id': 544, 'target': 8.23, 'actual': 8.35}, {'id': 545, 'target': 8.31, 'actual': 8.2}]\n"
     ]
    }
   ],
   "source": [
    "setting = PID_settings[0]\n",
    "calc_error(setting[\"Kp\"], setting[\"Ti\"], setting[\"Td\"])"
   ]
  },
  {
   "cell_type": "code",
   "execution_count": 260,
   "metadata": {},
   "outputs": [],
   "source": [
    "# setting = PID_settings[1]\n",
    "# calc_error(setting[\"Kp\"], setting[\"Ti\"], setting[\"Td\"])"
   ]
  }
 ],
 "metadata": {
  "kernelspec": {
   "display_name": "Python 3",
   "language": "python",
   "name": "python3"
  },
  "language_info": {
   "codemirror_mode": {
    "name": "ipython",
    "version": 3
   },
   "file_extension": ".py",
   "mimetype": "text/x-python",
   "name": "python",
   "nbconvert_exporter": "python",
   "pygments_lexer": "ipython3",
   "version": "3.10.12"
  }
 },
 "nbformat": 4,
 "nbformat_minor": 2
}
