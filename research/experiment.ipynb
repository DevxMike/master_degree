{
 "cells": [
  {
   "cell_type": "code",
   "execution_count": 15,
   "metadata": {},
   "outputs": [],
   "source": [
    "import paho.mqtt.client as mqtt\n",
    "import json\n",
    "import time"
   ]
  },
  {
   "cell_type": "code",
   "execution_count": 16,
   "metadata": {},
   "outputs": [],
   "source": [
    "import paho.mqtt.client as mqtt\n",
    "import json\n",
    "import time\n",
    "\n",
    "MQTT_BROKER = \"mqtt-dashboard.com\"\n",
    "MQTT_PORT = 1883\n",
    "MQTT_TOPIC_PID = \"robot/set/pid\"\n",
    "MQTT_TOPIC_MOTORS = \"robot/set/motors\"\n",
    "MQTT_TOPIC_LOG = \"robot/pid/log\"\n",
    "MQTT_TOPIC_RESPONSE = \"robot/request\""
   ]
  },
  {
   "cell_type": "code",
   "execution_count": 17,
   "metadata": {},
   "outputs": [],
   "source": [
    "mqtt_client = mqtt.Client(\"PID ctl\")\n",
    "\n",
    "logs = []\n",
    "\n",
    "experiment_ongoing = False"
   ]
  },
  {
   "cell_type": "code",
   "execution_count": 18,
   "metadata": {},
   "outputs": [],
   "source": [
    "def send_mqtt_message(topic, message):\n",
    "    mqtt_client.publish(topic, json.dumps(message))"
   ]
  },
  {
   "cell_type": "code",
   "execution_count": 19,
   "metadata": {},
   "outputs": [],
   "source": [
    "def run_experiment(Kp, Ti, Td):\n",
    "    global logs\n",
    "    global mqtt_client\n",
    "    global experiment_ongoing\n",
    "    mqtt_client = mqtt.Client(\"PID ctl\")\n",
    "    mqtt_client.connect(MQTT_BROKER, MQTT_PORT)\n",
    "    mqtt_client.subscribe(MQTT_TOPIC_LOG)\n",
    "    mqtt_client.on_message = on_log_message\n",
    "\n",
    "    mqtt_client.loop()\n",
    "    logs = []\n",
    "\n",
    "    pid_settings = {\"Kp\": Kp, \"Ti\": Ti, \"Td\": Td}\n",
    "    send_mqtt_message(MQTT_TOPIC_PID, pid_settings)\n",
    "\n",
    "    motors_speed = {\"left\": 50, \"right\": 50}\n",
    "    send_mqtt_message(MQTT_TOPIC_MOTORS, motors_speed)\n",
    "    experiment_ongoing = True\n",
    "    start_time = time.time()\n",
    "    while time.time() - start_time < 4:\n",
    "        mqtt_client.loop()\n",
    "\n",
    "    motors_speed = {\"left\": 0, \"right\": 0}\n",
    "    send_mqtt_message(MQTT_TOPIC_MOTORS, motors_speed)\n",
    "\n",
    "    while time.time() - start_time < 4:\n",
    "        mqtt_client.loop()\n",
    "    \n",
    "    send_mqtt_message(MQTT_TOPIC_RESPONSE, \"\")\n",
    "    experiment_ongoing = False\n",
    "    mqtt_client.disconnect()\n",
    "\n",
    "def on_log_message(client, userdata, message):\n",
    "    global experiment_ongoing\n",
    "    log_data = json.loads(message.payload.decode())\n",
    "    if len(logs) != 0: \n",
    "        logs.append(log_data) \n",
    "    elif len(logs) == 0 and log_data[\"id\"] == 0:\n",
    "        logs.append(log_data)"
   ]
  },
  {
   "cell_type": "code",
   "execution_count": 20,
   "metadata": {},
   "outputs": [],
   "source": [
    "mqtt_client.subscribe(MQTT_TOPIC_LOG)\n",
    "mqtt_client.on_message = on_log_message"
   ]
  },
  {
   "cell_type": "code",
   "execution_count": 21,
   "metadata": {},
   "outputs": [],
   "source": [
    "import math\n",
    "def calc_error(Kp, Ti, Td):\n",
    "    global logs\n",
    "\n",
    "    absolute_errors = []\n",
    "    relative_errors = []\n",
    "    settling_times = []\n",
    "\n",
    "    sampling_time = 5\n",
    "\n",
    "    run_experiment(Kp, Ti, Td)\n",
    "\n",
    "    for i in range(len(logs)):\n",
    "        measurement = logs[i]\n",
    "        absolute_error = abs(measurement['target'] - measurement['actual'])\n",
    "        relative_error = (absolute_error / measurement['target']) * 100 if measurement['target'] != 0 else 0\n",
    "        absolute_errors.append(absolute_error)\n",
    "        relative_errors.append(relative_error)\n",
    "        \n",
    "        # Sprawdzenie, czy wartość docelowa została osiągnięta\n",
    "        if relative_error < 2:  # Możesz dostosować wartość graniczną według potrzeb\n",
    "            settling_time = i * sampling_time\n",
    "            settling_times.append(settling_time)\n",
    "\n",
    "    mean_error = sum(absolute_errors) / len(absolute_errors)\n",
    "\n",
    "    mean_relative_error = sum(relative_errors) / len(relative_errors)\n",
    "\n",
    "    rmse_error = math.sqrt(sum([(error ** 2) for error in absolute_errors]) / len(absolute_errors))\n",
    "\n",
    "    average_settling_time = sum(settling_times) / len(settling_times) if settling_times else None\n",
    "\n",
    "    # Wyświetlenie wyników\n",
    "    print(\"Mean error: \", mean_error)\n",
    "    print(\"Mean relative error: \", mean_relative_error)\n",
    "    print(\"(RMSE): \", rmse_error)\n",
    "    print(\"Average settling time: \", average_settling_time, \" ms\")\n",
    "\n",
    "    print(logs)"
   ]
  },
  {
   "cell_type": "code",
   "execution_count": 25,
   "metadata": {},
   "outputs": [],
   "source": [
    "PID_settings = [\n",
    "    { \"Kp\" : 11.98725113, \"Ti\" : 1.59488759, \"Td\" : 1.34889701 },\n",
    "    { \"Kp\" : 29.50415103, \"Ti\" : 14.54508991, \"Td\" : 1.37240407 },\n",
    "    { \"Kp\" : 6.48107301, \"Ti\" : 2.93091131, \"Td\" : 2.34173984 },\n",
    "    { \"Kp\" : 12.48496515, \"Ti\" : 22.12299436, \"Td\" : 24.81674137 }\n",
    "]\n",
    "\n",
    "# for setting in PID_settings:\n",
    "#     print(setting)\n",
    "#     calc_error(setting[\"Kp\"], setting[\"Ti\"], setting[\"Td\"])"
   ]
  },
  {
   "cell_type": "code",
   "execution_count": 31,
   "metadata": {},
   "outputs": [
    {
     "name": "stdout",
     "output_type": "stream",
     "text": [
      "Mean error:  0.9762480857580395\n",
      "Mean relative error:  11.691593841413663\n",
      "(RMSE):  1.7782670901183135\n",
      "Average settling time:  1490.0  ms\n",
      "[{'id': 0, 'target': 8.35, 'actual': 0.0}, {'id': 1, 'target': 8.35, 'actual': 0.0}, {'id': 2, 'target': 8.35, 'actual': 0.0}, {'id': 3, 'target': 8.35, 'actual': 0.0}, {'id': 4, 'target': 8.35, 'actual': 0.2}, {'id': 5, 'target': 8.35, 'actual': 0.14}, {'id': 6, 'target': 8.35, 'actual': 0.29}, {'id': 7, 'target': 8.35, 'actual': 0.6}, {'id': 8, 'target': 8.35, 'actual': 0.61}, {'id': 9, 'target': 8.35, 'actual': 0.82}, {'id': 10, 'target': 8.35, 'actual': 0.97}, {'id': 11, 'target': 8.35, 'actual': 1.27}, {'id': 12, 'target': 8.35, 'actual': 1.28}, {'id': 13, 'target': 8.35, 'actual': 1.48}, {'id': 14, 'target': 8.35, 'actual': 1.63}, {'id': 15, 'target': 8.35, 'actual': 1.73}, {'id': 16, 'target': 8.35, 'actual': 1.8}, {'id': 17, 'target': 8.35, 'actual': 2.04}, {'id': 18, 'target': 8.35, 'actual': 2.02}, {'id': 19, 'target': 8.35, 'actual': 2.0}, {'id': 20, 'target': 8.35, 'actual': 2.19}, {'id': 21, 'target': 8.35, 'actual': 2.32}, {'id': 22, 'target': 8.35, 'actual': 2.41}, {'id': 23, 'target': 8.35, 'actual': 2.67}, {'id': 24, 'target': 8.35, 'actual': 2.85}, {'id': 25, 'target': 8.35, 'actual': 2.98}, {'id': 26, 'target': 8.35, 'actual': 3.06}, {'id': 27, 'target': 8.35, 'actual': 3.13}, {'id': 28, 'target': 8.35, 'actual': 3.17}, {'id': 29, 'target': 8.35, 'actual': 3.2}, {'id': 30, 'target': 8.35, 'actual': 3.22}, {'id': 31, 'target': 8.35, 'actual': 3.24}, {'id': 32, 'target': 8.35, 'actual': 3.44}, {'id': 33, 'target': 8.35, 'actual': 3.59}, {'id': 34, 'target': 8.35, 'actual': 3.69}, {'id': 35, 'target': 8.35, 'actual': 3.76}, {'id': 36, 'target': 8.35, 'actual': 4.01}, {'id': 37, 'target': 8.35, 'actual': 4.18}, {'id': 38, 'target': 8.35, 'actual': 4.3}, {'id': 39, 'target': 8.35, 'actual': 4.38}, {'id': 40, 'target': 8.35, 'actual': 4.44}, {'id': 41, 'target': 8.35, 'actual': 4.49}, {'id': 42, 'target': 8.35, 'actual': 4.51}, {'id': 43, 'target': 8.35, 'actual': 4.53}, {'id': 44, 'target': 8.35, 'actual': 4.74}, {'id': 45, 'target': 8.35, 'actual': 4.89}, {'id': 46, 'target': 8.35, 'actual': 5.0}, {'id': 47, 'target': 8.35, 'actual': 5.07}, {'id': 48, 'target': 8.35, 'actual': 5.12}, {'id': 49, 'target': 8.35, 'actual': 4.96}, {'id': 50, 'target': 8.35, 'actual': 4.84}, {'id': 51, 'target': 8.35, 'actual': 4.96}, {'id': 52, 'target': 8.35, 'actual': 5.04}, {'id': 53, 'target': 8.35, 'actual': 5.3}, {'id': 54, 'target': 8.35, 'actual': 5.48}, {'id': 55, 'target': 8.35, 'actual': 5.6}, {'id': 56, 'target': 8.35, 'actual': 5.69}, {'id': 57, 'target': 8.35, 'actual': 5.75}, {'id': 58, 'target': 8.35, 'actual': 5.79}, {'id': 59, 'target': 8.35, 'actual': 6.02}, {'id': 60, 'target': 8.35, 'actual': 6.18}, {'id': 61, 'target': 8.35, 'actual': 6.09}, {'id': 62, 'target': 8.35, 'actual': 6.23}, {'id': 63, 'target': 8.35, 'actual': 6.32}, {'id': 64, 'target': 8.35, 'actual': 6.39}, {'id': 65, 'target': 8.35, 'actual': 6.44}, {'id': 66, 'target': 8.35, 'actual': 6.27}, {'id': 67, 'target': 8.35, 'actual': 6.35}, {'id': 68, 'target': 8.35, 'actual': 6.61}, {'id': 69, 'target': 8.35, 'actual': 6.59}, {'id': 70, 'target': 8.35, 'actual': 6.77}, {'id': 71, 'target': 8.35, 'actual': 6.9}, {'id': 72, 'target': 8.35, 'actual': 6.99}, {'id': 73, 'target': 8.35, 'actual': 7.05}, {'id': 74, 'target': 8.35, 'actual': 7.1}, {'id': 75, 'target': 8.35, 'actual': 7.13}, {'id': 76, 'target': 8.35, 'actual': 7.35}, {'id': 77, 'target': 8.35, 'actual': 7.5}, {'id': 78, 'target': 8.35, 'actual': 7.6}, {'id': 79, 'target': 8.35, 'actual': 7.68}, {'id': 80, 'target': 8.35, 'actual': 7.73}, {'id': 81, 'target': 8.35, 'actual': 7.77}, {'id': 82, 'target': 8.35, 'actual': 7.99}, {'id': 83, 'target': 8.35, 'actual': 7.95}, {'id': 84, 'target': 8.35, 'actual': 8.12}, {'id': 85, 'target': 8.35, 'actual': 8.04}, {'id': 86, 'target': 8.35, 'actual': 8.18}, {'id': 87, 'target': 8.35, 'actual': 8.28}, {'id': 88, 'target': 8.35, 'actual': 8.15}, {'id': 89, 'target': 8.35, 'actual': 8.06}, {'id': 90, 'target': 8.35, 'actual': 8.0}, {'id': 91, 'target': 8.35, 'actual': 7.96}, {'id': 92, 'target': 8.35, 'actual': 7.93}, {'id': 93, 'target': 8.35, 'actual': 7.9}, {'id': 94, 'target': 8.35, 'actual': 7.89}, {'id': 95, 'target': 8.35, 'actual': 7.88}, {'id': 96, 'target': 8.35, 'actual': 7.67}, {'id': 97, 'target': 8.35, 'actual': 7.73}, {'id': 98, 'target': 8.35, 'actual': 7.77}, {'id': 99, 'target': 8.35, 'actual': 7.79}, {'id': 100, 'target': 8.35, 'actual': 7.61}, {'id': 101, 'target': 8.35, 'actual': 7.69}, {'id': 102, 'target': 8.35, 'actual': 7.54}, {'id': 103, 'target': 8.35, 'actual': 7.63}, {'id': 104, 'target': 8.35, 'actual': 7.7}, {'id': 105, 'target': 8.35, 'actual': 7.75}, {'id': 106, 'target': 8.35, 'actual': 7.78}, {'id': 107, 'target': 8.35, 'actual': 7.8}, {'id': 108, 'target': 8.35, 'actual': 7.82}, {'id': 109, 'target': 8.35, 'actual': 7.83}, {'id': 110, 'target': 8.35, 'actual': 8.03}, {'id': 111, 'target': 8.35, 'actual': 7.98}, {'id': 112, 'target': 8.35, 'actual': 7.94}, {'id': 113, 'target': 8.35, 'actual': 7.92}, {'id': 114, 'target': 8.35, 'actual': 7.9}, {'id': 115, 'target': 8.35, 'actual': 7.88}, {'id': 116, 'target': 8.35, 'actual': 7.87}, {'id': 117, 'target': 8.35, 'actual': 7.87}, {'id': 118, 'target': 8.35, 'actual': 7.86}, {'id': 119, 'target': 8.35, 'actual': 7.86}, {'id': 120, 'target': 8.35, 'actual': 7.47}, {'id': 121, 'target': 8.35, 'actual': 7.78}, {'id': 122, 'target': 8.35, 'actual': 7.41}, {'id': 123, 'target': 8.35, 'actual': 7.54}, {'id': 124, 'target': 8.35, 'actual': 7.83}, {'id': 125, 'target': 8.35, 'actual': 7.84}, {'id': 126, 'target': 8.35, 'actual': 7.84}, {'id': 127, 'target': 8.35, 'actual': 7.85}, {'id': 128, 'target': 8.35, 'actual': 7.85}, {'id': 129, 'target': 8.35, 'actual': 7.85}, {'id': 130, 'target': 8.35, 'actual': 7.85}, {'id': 131, 'target': 8.35, 'actual': 8.05}, {'id': 132, 'target': 8.35, 'actual': 8.19}, {'id': 133, 'target': 8.35, 'actual': 7.69}, {'id': 134, 'target': 8.35, 'actual': 7.74}, {'id': 135, 'target': 8.35, 'actual': 7.78}, {'id': 136, 'target': 8.35, 'actual': 8.0}, {'id': 137, 'target': 8.35, 'actual': 7.95}, {'id': 138, 'target': 8.35, 'actual': 7.92}, {'id': 139, 'target': 8.35, 'actual': 7.9}, {'id': 140, 'target': 8.35, 'actual': 7.89}, {'id': 141, 'target': 8.35, 'actual': 7.88}, {'id': 142, 'target': 8.35, 'actual': 7.87}, {'id': 143, 'target': 8.35, 'actual': 7.87}, {'id': 144, 'target': 8.35, 'actual': 7.86}, {'id': 145, 'target': 8.35, 'actual': 7.86}, {'id': 146, 'target': 8.35, 'actual': 7.86}, {'id': 147, 'target': 8.35, 'actual': 7.86}, {'id': 148, 'target': 8.35, 'actual': 7.86}, {'id': 149, 'target': 8.35, 'actual': 7.66}, {'id': 150, 'target': 8.35, 'actual': 7.32}, {'id': 151, 'target': 8.35, 'actual': 7.09}, {'id': 152, 'target': 8.35, 'actual': 7.32}, {'id': 153, 'target': 8.35, 'actual': 7.28}, {'id': 154, 'target': 8.35, 'actual': 7.45}, {'id': 155, 'target': 8.35, 'actual': 7.57}, {'id': 156, 'target': 8.35, 'actual': 7.85}, {'id': 157, 'target': 8.35, 'actual': 7.85}, {'id': 158, 'target': 8.35, 'actual': 8.05}, {'id': 159, 'target': 8.35, 'actual': 8.19}, {'id': 160, 'target': 8.35, 'actual': 8.28}, {'id': 161, 'target': 8.35, 'actual': 8.16}, {'id': 162, 'target': 8.35, 'actual': 8.06}, {'id': 163, 'target': 8.35, 'actual': 8.0}, {'id': 164, 'target': 8.35, 'actual': 7.96}, {'id': 165, 'target': 8.35, 'actual': 7.93}, {'id': 166, 'target': 8.35, 'actual': 7.9}, {'id': 167, 'target': 8.35, 'actual': 8.09}, {'id': 168, 'target': 8.35, 'actual': 8.02}, {'id': 169, 'target': 8.35, 'actual': 7.97}, {'id': 170, 'target': 8.35, 'actual': 7.93}, {'id': 171, 'target': 8.35, 'actual': 7.91}, {'id': 172, 'target': 8.35, 'actual': 7.5}, {'id': 173, 'target': 8.35, 'actual': 7.61}, {'id': 174, 'target': 8.35, 'actual': 7.48}, {'id': 175, 'target': 8.35, 'actual': 7.6}, {'id': 176, 'target': 8.35, 'actual': 7.87}, {'id': 177, 'target': 8.35, 'actual': 7.86}, {'id': 178, 'target': 8.35, 'actual': 7.86}, {'id': 179, 'target': 8.35, 'actual': 7.86}, {'id': 180, 'target': 8.35, 'actual': 7.86}, {'id': 181, 'target': 8.35, 'actual': 7.86}, {'id': 182, 'target': 8.35, 'actual': 8.05}, {'id': 183, 'target': 8.35, 'actual': 7.99}, {'id': 184, 'target': 8.35, 'actual': 7.95}, {'id': 185, 'target': 8.35, 'actual': 7.92}, {'id': 186, 'target': 8.35, 'actual': 7.71}, {'id': 187, 'target': 8.35, 'actual': 7.75}, {'id': 188, 'target': 8.35, 'actual': 7.78}, {'id': 189, 'target': 8.35, 'actual': 7.8}, {'id': 190, 'target': 8.35, 'actual': 7.82}, {'id': 191, 'target': 8.35, 'actual': 7.83}, {'id': 192, 'target': 8.35, 'actual': 8.03}, {'id': 193, 'target': 8.35, 'actual': 7.59}, {'id': 194, 'target': 8.35, 'actual': 7.67}, {'id': 195, 'target': 8.35, 'actual': 7.72}, {'id': 196, 'target': 8.35, 'actual': 7.76}, {'id': 197, 'target': 8.35, 'actual': 7.79}, {'id': 198, 'target': 8.35, 'actual': 7.81}, {'id': 199, 'target': 8.35, 'actual': 7.82}, {'id': 200, 'target': 8.35, 'actual': 7.83}, {'id': 201, 'target': 8.35, 'actual': 7.84}, {'id': 202, 'target': 8.35, 'actual': 7.84}, {'id': 203, 'target': 8.35, 'actual': 7.85}, {'id': 204, 'target': 8.35, 'actual': 7.65}, {'id': 205, 'target': 8.35, 'actual': 7.71}, {'id': 206, 'target': 8.35, 'actual': 7.76}, {'id': 207, 'target': 8.35, 'actual': 7.78}, {'id': 208, 'target': 8.35, 'actual': 7.61}, {'id': 209, 'target': 8.35, 'actual': 7.68}, {'id': 210, 'target': 8.35, 'actual': 7.73}, {'id': 211, 'target': 8.35, 'actual': 7.77}, {'id': 212, 'target': 8.35, 'actual': 7.8}, {'id': 213, 'target': 8.35, 'actual': 7.81}, {'id': 214, 'target': 8.35, 'actual': 7.83}, {'id': 215, 'target': 8.35, 'actual': 7.83}, {'id': 216, 'target': 8.35, 'actual': 7.84}, {'id': 217, 'target': 8.35, 'actual': 7.84}, {'id': 218, 'target': 8.35, 'actual': 7.85}, {'id': 219, 'target': 8.35, 'actual': 7.85}, {'id': 220, 'target': 8.35, 'actual': 7.85}, {'id': 221, 'target': 8.35, 'actual': 7.66}, {'id': 222, 'target': 8.35, 'actual': 7.71}, {'id': 223, 'target': 8.35, 'actual': 7.76}, {'id': 224, 'target': 8.35, 'actual': 7.79}, {'id': 225, 'target': 8.35, 'actual': 7.81}, {'id': 226, 'target': 8.35, 'actual': 7.82}, {'id': 227, 'target': 8.35, 'actual': 8.03}, {'id': 228, 'target': 8.35, 'actual': 8.17}, {'id': 229, 'target': 8.35, 'actual': 8.27}, {'id': 230, 'target': 8.35, 'actual': 8.34}, {'id': 231, 'target': 8.35, 'actual': 8.2}, {'id': 232, 'target': 8.35, 'actual': 7.9}, {'id': 233, 'target': 8.35, 'actual': 7.88}, {'id': 234, 'target': 8.35, 'actual': 7.88}, {'id': 235, 'target': 8.35, 'actual': 7.87}, {'id': 236, 'target': 8.35, 'actual': 7.86}, {'id': 237, 'target': 8.35, 'actual': 7.86}, {'id': 238, 'target': 8.35, 'actual': 7.86}, {'id': 239, 'target': 8.35, 'actual': 7.86}, {'id': 240, 'target': 8.35, 'actual': 7.86}, {'id': 241, 'target': 8.35, 'actual': 7.86}, {'id': 242, 'target': 8.35, 'actual': 7.86}, {'id': 243, 'target': 8.35, 'actual': 7.85}, {'id': 244, 'target': 8.35, 'actual': 7.85}, {'id': 245, 'target': 8.35, 'actual': 7.66}, {'id': 246, 'target': 8.35, 'actual': 7.72}, {'id': 247, 'target': 8.35, 'actual': 7.76}, {'id': 248, 'target': 8.35, 'actual': 7.59}, {'id': 249, 'target': 8.35, 'actual': 7.67}, {'id': 250, 'target': 8.35, 'actual': 7.72}, {'id': 251, 'target': 8.35, 'actual': 7.76}, {'id': 252, 'target': 8.35, 'actual': 7.79}, {'id': 253, 'target': 8.35, 'actual': 7.81}, {'id': 254, 'target': 8.35, 'actual': 7.82}, {'id': 255, 'target': 8.35, 'actual': 7.83}, {'id': 256, 'target': 8.35, 'actual': 7.84}, {'id': 257, 'target': 8.35, 'actual': 7.84}, {'id': 258, 'target': 8.35, 'actual': 7.85}, {'id': 259, 'target': 8.35, 'actual': 7.85}, {'id': 260, 'target': 8.35, 'actual': 7.85}, {'id': 261, 'target': 8.35, 'actual': 7.85}, {'id': 262, 'target': 8.35, 'actual': 7.85}, {'id': 263, 'target': 8.35, 'actual': 7.85}, {'id': 264, 'target': 8.35, 'actual': 7.85}, {'id': 265, 'target': 8.35, 'actual': 7.85}, {'id': 266, 'target': 8.35, 'actual': 7.85}, {'id': 267, 'target': 8.35, 'actual': 7.46}, {'id': 268, 'target': 8.35, 'actual': 7.97}, {'id': 269, 'target': 8.35, 'actual': 7.94}, {'id': 270, 'target': 8.35, 'actual': 7.91}, {'id': 271, 'target': 8.35, 'actual': 8.09}, {'id': 272, 'target': 8.35, 'actual': 8.02}, {'id': 273, 'target': 8.35, 'actual': 7.97}, {'id': 274, 'target': 8.35, 'actual': 7.94}, {'id': 275, 'target': 8.35, 'actual': 7.91}, {'id': 276, 'target': 8.35, 'actual': 7.89}, {'id': 277, 'target': 8.35, 'actual': 8.08}, {'id': 278, 'target': 8.35, 'actual': 7.62}, {'id': 279, 'target': 8.35, 'actual': 7.69}, {'id': 280, 'target': 8.35, 'actual': 7.74}, {'id': 281, 'target': 8.35, 'actual': 7.58}, {'id': 282, 'target': 8.35, 'actual': 7.66}, {'id': 283, 'target': 8.35, 'actual': 7.72}, {'id': 284, 'target': 8.35, 'actual': 7.76}, {'id': 285, 'target': 8.35, 'actual': 7.79}, {'id': 286, 'target': 8.35, 'actual': 7.81}, {'id': 287, 'target': 8.35, 'actual': 7.43}, {'id': 288, 'target': 8.35, 'actual': 7.56}, {'id': 289, 'target': 8.35, 'actual': 7.45}, {'id': 290, 'target': 8.35, 'actual': 7.77}, {'id': 291, 'target': 8.35, 'actual': 7.99}, {'id': 292, 'target': 8.35, 'actual': 7.95}, {'id': 293, 'target': 8.35, 'actual': 8.12}, {'id': 294, 'target': 8.35, 'actual': 8.04}, {'id': 295, 'target': 8.35, 'actual': 7.98}, {'id': 296, 'target': 8.35, 'actual': 8.14}, {'id': 297, 'target': 8.35, 'actual': 8.05}, {'id': 298, 'target': 8.35, 'actual': 8.19}, {'id': 299, 'target': 8.35, 'actual': 7.7}, {'id': 300, 'target': 8.35, 'actual': 7.35}, {'id': 301, 'target': 8.35, 'actual': 7.31}, {'id': 302, 'target': 8.35, 'actual': 7.47}, {'id': 303, 'target': 8.35, 'actual': 7.59}, {'id': 304, 'target': 8.35, 'actual': 7.67}, {'id': 305, 'target': 8.35, 'actual': 7.72}, {'id': 306, 'target': 8.35, 'actual': 7.76}, {'id': 307, 'target': 8.35, 'actual': 7.79}, {'id': 308, 'target': 8.35, 'actual': 7.81}, {'id': 309, 'target': 8.35, 'actual': 7.82}, {'id': 310, 'target': 8.35, 'actual': 8.03}, {'id': 311, 'target': 8.35, 'actual': 8.17}, {'id': 312, 'target': 8.35, 'actual': 8.08}, {'id': 313, 'target': 8.35, 'actual': 8.21}, {'id': 314, 'target': 8.35, 'actual': 8.1}, {'id': 315, 'target': 8.35, 'actual': 8.22}, {'id': 316, 'target': 8.35, 'actual': 8.11}, {'id': 317, 'target': 8.35, 'actual': 8.03}, {'id': 318, 'target': 8.35, 'actual': 7.98}, {'id': 319, 'target': 8.35, 'actual': 7.94}, {'id': 320, 'target': 8.35, 'actual': 7.92}, {'id': 321, 'target': 8.35, 'actual': 7.9}, {'id': 322, 'target': 8.35, 'actual': 7.88}, {'id': 323, 'target': 8.35, 'actual': 7.88}, {'id': 324, 'target': 8.35, 'actual': 7.87}, {'id': 325, 'target': 8.35, 'actual': 7.86}, {'id': 326, 'target': 8.35, 'actual': 7.66}, {'id': 327, 'target': 8.35, 'actual': 7.72}, {'id': 328, 'target': 8.35, 'actual': 7.76}, {'id': 329, 'target': 8.35, 'actual': 7.59}, {'id': 330, 'target': 8.35, 'actual': 7.67}, {'id': 331, 'target': 8.35, 'actual': 7.73}, {'id': 332, 'target': 8.35, 'actual': 7.76}, {'id': 333, 'target': 8.35, 'actual': 7.79}, {'id': 334, 'target': 8.35, 'actual': 7.61}, {'id': 335, 'target': 8.35, 'actual': 7.29}, {'id': 336, 'target': 8.35, 'actual': 7.46}, {'id': 337, 'target': 8.35, 'actual': 7.58}, {'id': 338, 'target': 8.35, 'actual': 7.27}, {'id': 339, 'target': 8.35, 'actual': 7.44}, {'id': 340, 'target': 8.35, 'actual': 7.76}, {'id': 341, 'target': 8.35, 'actual': 7.59}, {'id': 342, 'target': 8.35, 'actual': 7.67}, {'id': 343, 'target': 8.35, 'actual': 7.73}, {'id': 344, 'target': 8.35, 'actual': 7.96}, {'id': 345, 'target': 8.35, 'actual': 7.93}, {'id': 346, 'target': 8.35, 'actual': 8.1}, {'id': 347, 'target': 8.35, 'actual': 8.03}, {'id': 348, 'target': 8.35, 'actual': 8.17}, {'id': 349, 'target': 8.35, 'actual': 8.08}, {'id': 350, 'target': 8.35, 'actual': 8.21}, {'id': 351, 'target': 8.35, 'actual': 8.3}, {'id': 352, 'target': 8.35, 'actual': 8.16}, {'id': 353, 'target': 8.35, 'actual': 8.07}, {'id': 354, 'target': 8.35, 'actual': 8.01}, {'id': 355, 'target': 8.35, 'actual': 7.96}, {'id': 356, 'target': 8.35, 'actual': 7.93}, {'id': 357, 'target': 8.35, 'actual': 7.51}, {'id': 358, 'target': 8.35, 'actual': 7.62}, {'id': 359, 'target': 8.35, 'actual': 7.69}, {'id': 360, 'target': 8.35, 'actual': 7.74}, {'id': 361, 'target': 8.35, 'actual': 7.77}, {'id': 362, 'target': 8.35, 'actual': 7.8}, {'id': 363, 'target': 8.35, 'actual': 8.01}, {'id': 364, 'target': 8.35, 'actual': 7.57}, {'id': 365, 'target': 8.35, 'actual': 7.66}, {'id': 366, 'target': 8.35, 'actual': 7.91}, {'id': 367, 'target': 8.35, 'actual': 7.89}, {'id': 368, 'target': 8.35, 'actual': 7.88}, {'id': 369, 'target': 8.35, 'actual': 8.07}, {'id': 370, 'target': 8.35, 'actual': 8.2}, {'id': 371, 'target': 8.35, 'actual': 8.1}, {'id': 372, 'target': 8.35, 'actual': 8.02}, {'id': 373, 'target': 8.35, 'actual': 7.97}, {'id': 374, 'target': 8.35, 'actual': 7.94}, {'id': 375, 'target': 8.35, 'actual': 7.91}, {'id': 376, 'target': 8.35, 'actual': 7.89}, {'id': 377, 'target': 8.35, 'actual': 7.49}, {'id': 378, 'target': 8.35, 'actual': 7.6}, {'id': 379, 'target': 8.35, 'actual': 7.28}, {'id': 380, 'target': 8.35, 'actual': 7.45}, {'id': 381, 'target': 8.35, 'actual': 7.18}, {'id': 382, 'target': 8.35, 'actual': 7.58}, {'id': 383, 'target': 8.35, 'actual': 7.66}, {'id': 384, 'target': 8.35, 'actual': 7.72}, {'id': 385, 'target': 8.35, 'actual': 7.76}, {'id': 386, 'target': 8.35, 'actual': 7.79}, {'id': 387, 'target': 8.35, 'actual': 8.0}, {'id': 388, 'target': 8.35, 'actual': 7.96}, {'id': 389, 'target': 8.35, 'actual': 7.93}, {'id': 390, 'target': 8.35, 'actual': 8.1}, {'id': 391, 'target': 8.35, 'actual': 8.22}, {'id': 392, 'target': 8.35, 'actual': 8.11}, {'id': 393, 'target': 8.35, 'actual': 7.84}, {'id': 394, 'target': 8.35, 'actual': 7.45}, {'id': 395, 'target': 8.35, 'actual': 7.38}, {'id': 396, 'target': 8.35, 'actual': 7.52}, {'id': 397, 'target': 8.35, 'actual': 7.62}, {'id': 398, 'target': 8.35, 'actual': 7.69}, {'id': 399, 'target': 8.35, 'actual': 7.94}, {'id': 400, 'target': 8.35, 'actual': 8.11}, {'id': 401, 'target': 8.35, 'actual': 8.03}, {'id': 402, 'target': 8.35, 'actual': 7.98}, {'id': 403, 'target': 8.35, 'actual': 7.94}, {'id': 404, 'target': 8.35, 'actual': 8.11}, {'id': 405, 'target': 8.35, 'actual': 8.23}, {'id': 406, 'target': 8.35, 'actual': 8.12}, {'id': 407, 'target': 8.35, 'actual': 8.04}, {'id': 408, 'target': 8.35, 'actual': 8.18}, {'id': 409, 'target': 8.35, 'actual': 8.28}, {'id': 410, 'target': 8.35, 'actual': 8.15}, {'id': 411, 'target': 8.35, 'actual': 8.06}, {'id': 412, 'target': 8.35, 'actual': 8.0}, {'id': 413, 'target': 8.35, 'actual': 7.56}, {'id': 414, 'target': 8.35, 'actual': 7.65}, {'id': 415, 'target': 8.35, 'actual': 7.71}, {'id': 416, 'target': 8.35, 'actual': 7.75}, {'id': 417, 'target': 8.35, 'actual': 7.78}, {'id': 418, 'target': 8.35, 'actual': 7.61}, {'id': 419, 'target': 8.35, 'actual': 7.68}, {'id': 420, 'target': 8.35, 'actual': 7.73}, {'id': 421, 'target': 8.35, 'actual': 7.77}, {'id': 422, 'target': 8.35, 'actual': 7.8}, {'id': 423, 'target': 8.35, 'actual': 7.81}, {'id': 424, 'target': 8.35, 'actual': 7.83}, {'id': 425, 'target': 8.35, 'actual': 7.83}, {'id': 426, 'target': 8.35, 'actual': 7.84}, {'id': 427, 'target': 8.35, 'actual': 7.84}, {'id': 428, 'target': 8.35, 'actual': 7.85}, {'id': 429, 'target': 8.35, 'actual': 7.85}, {'id': 430, 'target': 8.35, 'actual': 7.85}, {'id': 431, 'target': 8.35, 'actual': 7.85}, {'id': 432, 'target': 8.35, 'actual': 7.85}, {'id': 433, 'target': 8.35, 'actual': 7.85}, {'id': 434, 'target': 8.35, 'actual': 7.85}, {'id': 435, 'target': 8.35, 'actual': 7.85}, {'id': 436, 'target': 8.35, 'actual': 8.05}, {'id': 437, 'target': 8.35, 'actual': 7.99}, {'id': 438, 'target': 8.35, 'actual': 7.95}, {'id': 439, 'target': 8.35, 'actual': 7.92}, {'id': 440, 'target': 8.35, 'actual': 7.9}, {'id': 441, 'target': 8.35, 'actual': 7.89}, {'id': 442, 'target': 8.35, 'actual': 8.07}, {'id': 443, 'target': 8.35, 'actual': 8.01}, {'id': 444, 'target': 8.35, 'actual': 7.96}, {'id': 445, 'target': 8.35, 'actual': 7.93}, {'id': 446, 'target': 8.35, 'actual': 7.71}, {'id': 447, 'target': 8.35, 'actual': 7.75}, {'id': 448, 'target': 8.35, 'actual': 7.39}, {'id': 449, 'target': 8.35, 'actual': 7.73}, {'id': 450, 'target': 8.35, 'actual': 7.37}, {'id': 451, 'target': 8.35, 'actual': 7.52}, {'id': 452, 'target': 8.35, 'actual': 7.81}, {'id': 453, 'target': 8.35, 'actual': 8.02}, {'id': 454, 'target': 8.35, 'actual': 8.17}, {'id': 455, 'target': 8.35, 'actual': 8.07}, {'id': 456, 'target': 8.35, 'actual': 8.01}, {'id': 457, 'target': 8.35, 'actual': 7.96}, {'id': 458, 'target': 8.35, 'actual': 7.93}, {'id': 459, 'target': 8.35, 'actual': 7.91}, {'id': 460, 'target': 8.35, 'actual': 7.89}, {'id': 461, 'target': 8.35, 'actual': 7.88}, {'id': 462, 'target': 8.35, 'actual': 7.87}, {'id': 463, 'target': 8.35, 'actual': 7.87}, {'id': 464, 'target': 8.35, 'actual': 7.67}, {'id': 465, 'target': 8.35, 'actual': 7.72}, {'id': 466, 'target': 8.35, 'actual': 7.76}, {'id': 467, 'target': 8.35, 'actual': 7.79}, {'id': 468, 'target': 8.35, 'actual': 7.81}, {'id': 469, 'target': 8.35, 'actual': 7.82}, {'id': 470, 'target': 8.35, 'actual': 7.64}, {'id': 471, 'target': 8.35, 'actual': 7.7}, {'id': 472, 'target': 8.35, 'actual': 7.94}, {'id': 473, 'target': 8.35, 'actual': 8.11}, {'id': 474, 'target': 8.35, 'actual': 8.04}, {'id': 475, 'target': 8.35, 'actual': 7.98}, {'id': 476, 'target': 8.35, 'actual': 7.94}, {'id': 477, 'target': 8.35, 'actual': 7.92}, {'id': 478, 'target': 8.35, 'actual': 7.9}, {'id': 479, 'target': 8.35, 'actual': 7.88}, {'id': 480, 'target': 8.35, 'actual': 7.88}, {'id': 481, 'target': 8.35, 'actual': 8.07}, {'id': 482, 'target': 8.35, 'actual': 7.81}, {'id': 483, 'target': 8.35, 'actual': 7.82}, {'id': 484, 'target': 8.35, 'actual': 7.83}, {'id': 485, 'target': 8.35, 'actual': 7.84}, {'id': 486, 'target': 8.35, 'actual': 7.65}, {'id': 487, 'target': 8.35, 'actual': 7.71}, {'id': 488, 'target': 8.35, 'actual': 7.75}, {'id': 489, 'target': 8.35, 'actual': 7.78}, {'id': 490, 'target': 8.35, 'actual': 7.8}, {'id': 491, 'target': 8.35, 'actual': 7.82}, {'id': 492, 'target': 8.35, 'actual': 7.83}, {'id': 493, 'target': 8.35, 'actual': 7.84}, {'id': 494, 'target': 8.35, 'actual': 7.84}, {'id': 495, 'target': 8.35, 'actual': 7.85}, {'id': 496, 'target': 8.35, 'actual': 7.85}, {'id': 497, 'target': 8.35, 'actual': 7.85}, {'id': 498, 'target': 8.35, 'actual': 7.85}, {'id': 499, 'target': 8.35, 'actual': 7.85}, {'id': 500, 'target': 8.35, 'actual': 7.85}, {'id': 501, 'target': 8.35, 'actual': 7.85}, {'id': 502, 'target': 8.35, 'actual': 7.85}, {'id': 503, 'target': 8.35, 'actual': 7.85}, {'id': 504, 'target': 8.35, 'actual': 7.85}, {'id': 505, 'target': 8.35, 'actual': 8.05}, {'id': 506, 'target': 8.35, 'actual': 7.6}, {'id': 507, 'target': 8.35, 'actual': 7.68}, {'id': 508, 'target': 8.35, 'actual': 7.73}, {'id': 509, 'target': 8.35, 'actual': 7.96}, {'id': 510, 'target': 8.35, 'actual': 7.93}, {'id': 511, 'target': 8.35, 'actual': 7.91}, {'id': 512, 'target': 8.35, 'actual': 7.89}, {'id': 513, 'target': 8.35, 'actual': 7.88}, {'id': 514, 'target': 8.35, 'actual': 8.07}, {'id': 515, 'target': 8.35, 'actual': 8.0}, {'id': 516, 'target': 8.35, 'actual': 7.96}, {'id': 517, 'target': 8.35, 'actual': 7.93}, {'id': 518, 'target': 8.35, 'actual': 7.91}, {'id': 519, 'target': 8.35, 'actual': 7.89}, {'id': 520, 'target': 8.35, 'actual': 7.88}, {'id': 521, 'target': 8.35, 'actual': 7.87}, {'id': 522, 'target': 8.35, 'actual': 7.87}, {'id': 523, 'target': 8.35, 'actual': 7.86}, {'id': 524, 'target': 8.35, 'actual': 7.86}, {'id': 525, 'target': 8.35, 'actual': 7.86}, {'id': 526, 'target': 8.35, 'actual': 7.86}, {'id': 527, 'target': 8.35, 'actual': 7.86}, {'id': 528, 'target': 8.35, 'actual': 7.86}, {'id': 529, 'target': 8.35, 'actual': 7.86}, {'id': 530, 'target': 8.35, 'actual': 7.85}, {'id': 531, 'target': 8.35, 'actual': 7.85}, {'id': 532, 'target': 8.35, 'actual': 7.85}, {'id': 533, 'target': 8.35, 'actual': 7.85}, {'id': 534, 'target': 8.35, 'actual': 7.66}, {'id': 535, 'target': 8.35, 'actual': 7.72}, {'id': 536, 'target': 8.35, 'actual': 7.76}, {'id': 537, 'target': 8.35, 'actual': 7.79}, {'id': 538, 'target': 8.35, 'actual': 7.41}, {'id': 539, 'target': 8.35, 'actual': 7.74}, {'id': 540, 'target': 8.35, 'actual': 7.78}, {'id': 541, 'target': 8.35, 'actual': 7.8}, {'id': 542, 'target': 8.35, 'actual': 7.62}, {'id': 543, 'target': 8.35, 'actual': 7.69}, {'id': 544, 'target': 8.35, 'actual': 7.74}, {'id': 545, 'target': 8.35, 'actual': 7.77}, {'id': 546, 'target': 8.35, 'actual': 7.8}, {'id': 547, 'target': 8.35, 'actual': 7.62}, {'id': 548, 'target': 8.35, 'actual': 7.69}, {'id': 549, 'target': 8.35, 'actual': 7.74}, {'id': 550, 'target': 8.35, 'actual': 7.77}, {'id': 551, 'target': 8.35, 'actual': 7.8}, {'id': 552, 'target': 8.35, 'actual': 7.81}, {'id': 553, 'target': 8.35, 'actual': 7.83}, {'id': 554, 'target': 8.35, 'actual': 7.83}, {'id': 555, 'target': 8.35, 'actual': 8.04}, {'id': 556, 'target': 8.35, 'actual': 8.18}, {'id': 557, 'target': 8.35, 'actual': 8.08}, {'id': 558, 'target': 8.35, 'actual': 8.01}, {'id': 559, 'target': 8.35, 'actual': 7.97}, {'id': 560, 'target': 8.35, 'actual': 7.93}, {'id': 561, 'target': 8.35, 'actual': 7.91}, {'id': 562, 'target': 8.35, 'actual': 7.89}, {'id': 563, 'target': 8.35, 'actual': 8.08}, {'id': 564, 'target': 8.35, 'actual': 8.01}, {'id': 565, 'target': 8.35, 'actual': 7.96}, {'id': 566, 'target': 8.35, 'actual': 7.93}, {'id': 567, 'target': 8.35, 'actual': 7.91}, {'id': 568, 'target': 8.35, 'actual': 7.89}, {'id': 569, 'target': 8.35, 'actual': 8.08}, {'id': 570, 'target': 8.35, 'actual': 7.62}, {'id': 571, 'target': 8.35, 'actual': 7.69}, {'id': 572, 'target': 8.35, 'actual': 7.74}, {'id': 573, 'target': 8.35, 'actual': 7.77}, {'id': 574, 'target': 8.35, 'actual': 7.8}, {'id': 575, 'target': 8.35, 'actual': 7.81}, {'id': 576, 'target': 8.35, 'actual': 7.83}, {'id': 577, 'target': 8.35, 'actual': 7.83}, {'id': 578, 'target': 8.35, 'actual': 7.84}, {'id': 579, 'target': 8.35, 'actual': 7.84}, {'id': 580, 'target': 8.35, 'actual': 7.85}, {'id': 581, 'target': 8.35, 'actual': 7.46}, {'id': 582, 'target': 8.35, 'actual': 7.58}, {'id': 583, 'target': 8.35, 'actual': 7.86}, {'id': 584, 'target': 8.35, 'actual': 8.05}, {'id': 585, 'target': 8.35, 'actual': 7.99}, {'id': 586, 'target': 8.35, 'actual': 7.95}, {'id': 587, 'target': 8.35, 'actual': 7.92}, {'id': 588, 'target': 8.35, 'actual': 7.9}, {'id': 589, 'target': 8.35, 'actual': 8.08}, {'id': 590, 'target': 8.35, 'actual': 7.82}, {'id': 591, 'target': 8.35, 'actual': 8.03}, {'id': 592, 'target': 8.35, 'actual': 7.97}, {'id': 593, 'target': 8.35, 'actual': 7.94}, {'id': 594, 'target': 8.35, 'actual': 7.91}, {'id': 595, 'target': 8.35, 'actual': 7.9}, {'id': 596, 'target': 8.35, 'actual': 7.88}, {'id': 597, 'target': 8.35, 'actual': 7.87}, {'id': 598, 'target': 8.35, 'actual': 7.87}, {'id': 599, 'target': 8.35, 'actual': 7.86}, {'id': 600, 'target': 8.35, 'actual': 7.86}, {'id': 601, 'target': 8.35, 'actual': 8.06}, {'id': 602, 'target': 8.35, 'actual': 7.99}, {'id': 603, 'target': 8.35, 'actual': 7.95}, {'id': 604, 'target': 8.35, 'actual': 7.92}, {'id': 605, 'target': 8.35, 'actual': 7.9}, {'id': 606, 'target': 8.35, 'actual': 7.89}, {'id': 607, 'target': 8.35, 'actual': 7.88}, {'id': 608, 'target': 8.35, 'actual': 7.87}, {'id': 609, 'target': 8.35, 'actual': 7.67}, {'id': 610, 'target': 8.35, 'actual': 7.53}, {'id': 611, 'target': 8.35, 'actual': 7.63}, {'id': 612, 'target': 8.35, 'actual': 7.69}, {'id': 613, 'target': 8.35, 'actual': 7.74}, {'id': 614, 'target': 8.35, 'actual': 7.78}, {'id': 615, 'target': 8.35, 'actual': 7.41}, {'id': 616, 'target': 8.35, 'actual': 7.54}, {'id': 617, 'target': 8.35, 'actual': 7.63}, {'id': 618, 'target': 8.35, 'actual': 7.7}, {'id': 619, 'target': 8.35, 'actual': 7.94}, {'id': 620, 'target': 8.35, 'actual': 7.92}, {'id': 621, 'target': 8.35, 'actual': 7.9}, {'id': 622, 'target': 8.35, 'actual': 7.88}, {'id': 623, 'target': 8.35, 'actual': 7.88}, {'id': 624, 'target': 8.35, 'actual': 7.87}, {'id': 625, 'target': 8.35, 'actual': 7.67}, {'id': 626, 'target': 8.35, 'actual': 7.33}, {'id': 627, 'target': 8.35, 'actual': 7.49}, {'id': 628, 'target': 8.35, 'actual': 7.6}, {'id': 629, 'target': 8.35, 'actual': 7.67}, {'id': 630, 'target': 8.35, 'actual': 7.73}, {'id': 631, 'target': 8.35, 'actual': 7.77}, {'id': 632, 'target': 8.35, 'actual': 7.79}, {'id': 633, 'target': 8.35, 'actual': 8.01}, {'id': 634, 'target': 8.35, 'actual': 7.96}, {'id': 635, 'target': 8.35, 'actual': 8.13}, {'id': 636, 'target': 8.35, 'actual': 8.24}, {'id': 637, 'target': 8.35, 'actual': 8.12}, {'id': 638, 'target': 8.35, 'actual': 8.04}, {'id': 639, 'target': 8.35, 'actual': 7.99}, {'id': 640, 'target': 8.35, 'actual': 7.95}, {'id': 641, 'target': 8.35, 'actual': 7.92}, {'id': 642, 'target': 8.35, 'actual': 7.9}, {'id': 643, 'target': 8.35, 'actual': 7.89}, {'id': 644, 'target': 8.35, 'actual': 7.88}, {'id': 645, 'target': 8.35, 'actual': 7.87}, {'id': 646, 'target': 8.35, 'actual': 7.86}, {'id': 647, 'target': 8.35, 'actual': 8.06}, {'id': 648, 'target': 8.35, 'actual': 8.0}, {'id': 649, 'target': 8.35, 'actual': 7.95}, {'id': 650, 'target': 8.35, 'actual': 7.92}, {'id': 651, 'target': 8.35, 'actual': 7.9}, {'id': 652, 'target': 8.35, 'actual': 7.89}]\n"
     ]
    }
   ],
   "source": [
    "setting = PID_settings[2]\n",
    "calc_error(setting[\"Kp\"], setting[\"Ti\"], setting[\"Td\"])"
   ]
  },
  {
   "cell_type": "code",
   "execution_count": 10,
   "metadata": {},
   "outputs": [],
   "source": [
    "# setting = PID_settings[1]\n",
    "# calc_error(setting[\"Kp\"], setting[\"Ti\"], setting[\"Td\"])"
   ]
  },
  {
   "cell_type": "code",
   "execution_count": 11,
   "metadata": {},
   "outputs": [
    {
     "data": {
      "text/plain": [
       "'4DPlot.html'"
      ]
     },
     "execution_count": 11,
     "metadata": {},
     "output_type": "execute_result"
    }
   ],
   "source": [
    "# import pandas as pd\n",
    "# import plotly\n",
    "# import plotly.graph_objs as go\n",
    "\n",
    "\n",
    "# #Read cars data from csv\n",
    "# data = {\"KP\" : (1, 2, 3), \"TI\" : (2, 3, 4), \"TD\" : (3, 4, 5) }\n",
    "\n",
    "\n",
    "# #Make Plotly figure\n",
    "# fig1 = go.Scatter3d(x=data[\"KP\"],\n",
    "#                     y=data[\"TI\"],\n",
    "#                     z=data[\"TD\"],\n",
    "#                     marker=dict(color=13,\n",
    "#                                 opacity=1,\n",
    "#                                 reversescale=True,\n",
    "#                                 colorscale='Blues',\n",
    "#                                 size=5),\n",
    "#                     line=dict (width=0.02),\n",
    "#                     mode='markers')\n",
    "\n",
    "# #Make Plot.ly Layout\n",
    "# mylayout = go.Layout(scene=dict(xaxis=dict( title=\"KP\"),\n",
    "#                                 yaxis=dict( title=\"TI\"),\n",
    "#                                 zaxis=dict(title=\"TD\")),)\n",
    "\n",
    "# #Plot and save html\n",
    "# plotly.offline.plot({\"data\": [fig1],\n",
    "#                      \"layout\": mylayout},\n",
    "#                      auto_open=True,\n",
    "#                      filename=(\"4DPlot.html\"))"
   ]
  }
 ],
 "metadata": {
  "kernelspec": {
   "display_name": "Python 3",
   "language": "python",
   "name": "python3"
  },
  "language_info": {
   "codemirror_mode": {
    "name": "ipython",
    "version": 3
   },
   "file_extension": ".py",
   "mimetype": "text/x-python",
   "name": "python",
   "nbconvert_exporter": "python",
   "pygments_lexer": "ipython3",
   "version": "3.10.12"
  }
 },
 "nbformat": 4,
 "nbformat_minor": 2
}
